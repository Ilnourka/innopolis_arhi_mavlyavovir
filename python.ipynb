{
 "cells": [
  {
   "cell_type": "code",
   "execution_count": 26,
   "id": "33940c5b",
   "metadata": {},
   "outputs": [
    {
     "data": {
      "text/html": [
       "<div>\n",
       "<style scoped>\n",
       "    .dataframe tbody tr th:only-of-type {\n",
       "        vertical-align: middle;\n",
       "    }\n",
       "\n",
       "    .dataframe tbody tr th {\n",
       "        vertical-align: top;\n",
       "    }\n",
       "\n",
       "    .dataframe thead th {\n",
       "        text-align: right;\n",
       "    }\n",
       "</style>\n",
       "<table border=\"1\" class=\"dataframe\">\n",
       "  <thead>\n",
       "    <tr style=\"text-align: right;\">\n",
       "      <th></th>\n",
       "      <th>val</th>\n",
       "    </tr>\n",
       "  </thead>\n",
       "  <tbody>\n",
       "    <tr>\n",
       "      <th>0</th>\n",
       "      <td>(773,\"Boeing 777-300\",11100)</td>\n",
       "    </tr>\n",
       "    <tr>\n",
       "      <th>1</th>\n",
       "      <td>(763,\"Boeing 767-300\",7900)</td>\n",
       "    </tr>\n",
       "    <tr>\n",
       "      <th>2</th>\n",
       "      <td>(319,\"Airbus A319-100\",6700)</td>\n",
       "    </tr>\n",
       "  </tbody>\n",
       "</table>\n",
       "</div>"
      ],
      "text/plain": [
       "                            val\n",
       "0  (773,\"Boeing 777-300\",11100)\n",
       "1   (763,\"Boeing 767-300\",7900)\n",
       "2  (319,\"Airbus A319-100\",6700)"
      ]
     },
     "execution_count": 26,
     "metadata": {},
     "output_type": "execute_result"
    }
   ],
   "source": [
    "import pandas as pd\n",
    "import psycopg2\n",
    "\n",
    "\n",
    "conn = psycopg2.connect(database=\"demo\",user=\"postgres\", password=\"postgres\", host=\"localhost\", port=\"5432\")\n",
    "\n",
    "cur = conn.cursor()\n",
    "\n",
    "cur.execute(\"select * from model_air\")\n",
    "\n",
    "result = cur.fetchall()\n",
    "\n",
    "df=pd.DataFrame()\n",
    "for i in result:\n",
    "    df.loc[len(df), 'val'] = i[0]\n",
    "    #print((i[0]).split(\",\"))\n",
    "df"
   ]
  }
 ],
 "metadata": {
  "kernelspec": {
   "display_name": "Python 3",
   "language": "python",
   "name": "python3"
  },
  "language_info": {
   "codemirror_mode": {
    "name": "ipython",
    "version": 3
   },
   "file_extension": ".py",
   "mimetype": "text/x-python",
   "name": "python",
   "nbconvert_exporter": "python",
   "pygments_lexer": "ipython3",
   "version": "3.6.4"
  }
 },
 "nbformat": 4,
 "nbformat_minor": 5
}
