{
  "nbformat": 4,
  "nbformat_minor": 0,
  "metadata": {
    "colab": {
      "provenance": []
    },
    "kernelspec": {
      "name": "python3",
      "display_name": "Python 3"
    },
    "language_info": {
      "name": "python"
    }
  },
  "cells": [
    {
      "cell_type": "code",
      "execution_count": 1,
      "metadata": {
        "colab": {
          "base_uri": "https://localhost:8080/"
        },
        "id": "bgLMVBOSZcY1",
        "outputId": "a2ee7293-1ed6-4639-bf5e-13588749c3f5"
      },
      "outputs": [
        {
          "output_type": "execute_result",
          "data": {
            "text/plain": [
              "[[10]]"
            ]
          },
          "metadata": {},
          "execution_count": 1
        }
      ],
      "source": [
        "def multiply_matrix(a,b):\n",
        "    return [[sum([x*y for x, y in zip(rowA, colB)])\n",
        "             for colB in zip(*b)]\n",
        "            for rowA in a]\n",
        "multiply_matrix( [[6, -8, 3]], [[1],[1],[4]])"
      ]
    },
    {
      "cell_type": "code",
      "source": [
        "def multiply_matrix(a,b):\n",
        "    return [[sum([x*y for x, y in zip(rowA, colB)])\n",
        "             for colB in zip(*b)]\n",
        "            for rowA in a]\n",
        "multiply_matrix( [[-3, -7], [-10, 6], [0, -6], [-1, -3]], [[-8, 9],[4, -2]])"
      ],
      "metadata": {
        "colab": {
          "base_uri": "https://localhost:8080/"
        },
        "id": "N_Rr5L-1yXR1",
        "outputId": "36b27492-9772-4fd4-a35b-00700041b7ff"
      },
      "execution_count": 2,
      "outputs": [
        {
          "output_type": "execute_result",
          "data": {
            "text/plain": [
              "[[-4, -13], [104, -102], [-24, 12], [-4, -3]]"
            ]
          },
          "metadata": {},
          "execution_count": 2
        }
      ]
    }
  ]
}