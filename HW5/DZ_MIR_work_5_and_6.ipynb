{
 "cells": [
  {
   "cell_type": "code",
   "execution_count": 18,
   "id": "16c63608",
   "metadata": {},
   "outputs": [
    {
     "data": {
      "text/html": [
       "<div>\n",
       "<style scoped>\n",
       "    .dataframe tbody tr th:only-of-type {\n",
       "        vertical-align: middle;\n",
       "    }\n",
       "\n",
       "    .dataframe tbody tr th {\n",
       "        vertical-align: top;\n",
       "    }\n",
       "\n",
       "    .dataframe thead th {\n",
       "        text-align: right;\n",
       "    }\n",
       "</style>\n",
       "<table border=\"1\" class=\"dataframe\">\n",
       "  <thead>\n",
       "    <tr style=\"text-align: right;\">\n",
       "      <th></th>\n",
       "      <th>PassengerId</th>\n",
       "      <th>Survived</th>\n",
       "      <th>Pclass</th>\n",
       "      <th>Name Passenger</th>\n",
       "      <th>Gender Passenger</th>\n",
       "      <th>Age</th>\n",
       "      <th>SibSp</th>\n",
       "      <th>Parch</th>\n",
       "      <th>Ticket</th>\n",
       "      <th>Fare</th>\n",
       "      <th>Cabin</th>\n",
       "      <th>Embarked</th>\n",
       "    </tr>\n",
       "  </thead>\n",
       "  <tbody>\n",
       "    <tr>\n",
       "      <th>0</th>\n",
       "      <td>1</td>\n",
       "      <td>0</td>\n",
       "      <td>3</td>\n",
       "      <td>Braund, Mr. Owen Harris</td>\n",
       "      <td>male</td>\n",
       "      <td>22.0</td>\n",
       "      <td>1</td>\n",
       "      <td>0</td>\n",
       "      <td>A/5 21171</td>\n",
       "      <td>7.2500</td>\n",
       "      <td>NaN</td>\n",
       "      <td>S</td>\n",
       "    </tr>\n",
       "    <tr>\n",
       "      <th>1</th>\n",
       "      <td>2</td>\n",
       "      <td>1</td>\n",
       "      <td>1</td>\n",
       "      <td>Cumings, Mrs. John Bradley (Florence Briggs Th...</td>\n",
       "      <td>female</td>\n",
       "      <td>38.0</td>\n",
       "      <td>1</td>\n",
       "      <td>0</td>\n",
       "      <td>PC 17599</td>\n",
       "      <td>71.2833</td>\n",
       "      <td>C85</td>\n",
       "      <td>C</td>\n",
       "    </tr>\n",
       "    <tr>\n",
       "      <th>2</th>\n",
       "      <td>3</td>\n",
       "      <td>1</td>\n",
       "      <td>3</td>\n",
       "      <td>Heikkinen, Miss. Laina</td>\n",
       "      <td>female</td>\n",
       "      <td>26.0</td>\n",
       "      <td>0</td>\n",
       "      <td>0</td>\n",
       "      <td>STON/O2. 3101282</td>\n",
       "      <td>7.9250</td>\n",
       "      <td>NaN</td>\n",
       "      <td>S</td>\n",
       "    </tr>\n",
       "    <tr>\n",
       "      <th>3</th>\n",
       "      <td>4</td>\n",
       "      <td>1</td>\n",
       "      <td>1</td>\n",
       "      <td>Futrelle, Mrs. Jacques Heath (Lily May Peel)</td>\n",
       "      <td>female</td>\n",
       "      <td>35.0</td>\n",
       "      <td>1</td>\n",
       "      <td>0</td>\n",
       "      <td>113803</td>\n",
       "      <td>53.1000</td>\n",
       "      <td>C123</td>\n",
       "      <td>S</td>\n",
       "    </tr>\n",
       "    <tr>\n",
       "      <th>4</th>\n",
       "      <td>5</td>\n",
       "      <td>0</td>\n",
       "      <td>3</td>\n",
       "      <td>Allen, Mr. William Henry</td>\n",
       "      <td>male</td>\n",
       "      <td>35.0</td>\n",
       "      <td>0</td>\n",
       "      <td>0</td>\n",
       "      <td>373450</td>\n",
       "      <td>8.0500</td>\n",
       "      <td>NaN</td>\n",
       "      <td>S</td>\n",
       "    </tr>\n",
       "    <tr>\n",
       "      <th>...</th>\n",
       "      <td>...</td>\n",
       "      <td>...</td>\n",
       "      <td>...</td>\n",
       "      <td>...</td>\n",
       "      <td>...</td>\n",
       "      <td>...</td>\n",
       "      <td>...</td>\n",
       "      <td>...</td>\n",
       "      <td>...</td>\n",
       "      <td>...</td>\n",
       "      <td>...</td>\n",
       "      <td>...</td>\n",
       "    </tr>\n",
       "    <tr>\n",
       "      <th>886</th>\n",
       "      <td>887</td>\n",
       "      <td>0</td>\n",
       "      <td>2</td>\n",
       "      <td>Montvila, Rev. Juozas</td>\n",
       "      <td>male</td>\n",
       "      <td>27.0</td>\n",
       "      <td>0</td>\n",
       "      <td>0</td>\n",
       "      <td>211536</td>\n",
       "      <td>13.0000</td>\n",
       "      <td>NaN</td>\n",
       "      <td>S</td>\n",
       "    </tr>\n",
       "    <tr>\n",
       "      <th>887</th>\n",
       "      <td>888</td>\n",
       "      <td>1</td>\n",
       "      <td>1</td>\n",
       "      <td>Graham, Miss. Margaret Edith</td>\n",
       "      <td>female</td>\n",
       "      <td>19.0</td>\n",
       "      <td>0</td>\n",
       "      <td>0</td>\n",
       "      <td>112053</td>\n",
       "      <td>30.0000</td>\n",
       "      <td>B42</td>\n",
       "      <td>S</td>\n",
       "    </tr>\n",
       "    <tr>\n",
       "      <th>888</th>\n",
       "      <td>889</td>\n",
       "      <td>0</td>\n",
       "      <td>3</td>\n",
       "      <td>Johnston, Miss. Catherine Helen \"Carrie\"</td>\n",
       "      <td>female</td>\n",
       "      <td>NaN</td>\n",
       "      <td>1</td>\n",
       "      <td>2</td>\n",
       "      <td>W./C. 6607</td>\n",
       "      <td>23.4500</td>\n",
       "      <td>NaN</td>\n",
       "      <td>S</td>\n",
       "    </tr>\n",
       "    <tr>\n",
       "      <th>889</th>\n",
       "      <td>890</td>\n",
       "      <td>1</td>\n",
       "      <td>1</td>\n",
       "      <td>Behr, Mr. Karl Howell</td>\n",
       "      <td>male</td>\n",
       "      <td>26.0</td>\n",
       "      <td>0</td>\n",
       "      <td>0</td>\n",
       "      <td>111369</td>\n",
       "      <td>30.0000</td>\n",
       "      <td>C148</td>\n",
       "      <td>C</td>\n",
       "    </tr>\n",
       "    <tr>\n",
       "      <th>890</th>\n",
       "      <td>891</td>\n",
       "      <td>0</td>\n",
       "      <td>3</td>\n",
       "      <td>Dooley, Mr. Patrick</td>\n",
       "      <td>male</td>\n",
       "      <td>32.0</td>\n",
       "      <td>0</td>\n",
       "      <td>0</td>\n",
       "      <td>370376</td>\n",
       "      <td>7.7500</td>\n",
       "      <td>NaN</td>\n",
       "      <td>Q</td>\n",
       "    </tr>\n",
       "  </tbody>\n",
       "</table>\n",
       "<p>891 rows × 12 columns</p>\n",
       "</div>"
      ],
      "text/plain": [
       "     PassengerId  Survived  Pclass  \\\n",
       "0              1         0       3   \n",
       "1              2         1       1   \n",
       "2              3         1       3   \n",
       "3              4         1       1   \n",
       "4              5         0       3   \n",
       "..           ...       ...     ...   \n",
       "886          887         0       2   \n",
       "887          888         1       1   \n",
       "888          889         0       3   \n",
       "889          890         1       1   \n",
       "890          891         0       3   \n",
       "\n",
       "                                        Name Passenger Gender Passenger   Age  \\\n",
       "0                              Braund, Mr. Owen Harris             male  22.0   \n",
       "1    Cumings, Mrs. John Bradley (Florence Briggs Th...           female  38.0   \n",
       "2                               Heikkinen, Miss. Laina           female  26.0   \n",
       "3         Futrelle, Mrs. Jacques Heath (Lily May Peel)           female  35.0   \n",
       "4                             Allen, Mr. William Henry             male  35.0   \n",
       "..                                                 ...              ...   ...   \n",
       "886                              Montvila, Rev. Juozas             male  27.0   \n",
       "887                       Graham, Miss. Margaret Edith           female  19.0   \n",
       "888           Johnston, Miss. Catherine Helen \"Carrie\"           female   NaN   \n",
       "889                              Behr, Mr. Karl Howell             male  26.0   \n",
       "890                                Dooley, Mr. Patrick             male  32.0   \n",
       "\n",
       "     SibSp  Parch            Ticket     Fare Cabin Embarked  \n",
       "0        1      0         A/5 21171   7.2500   NaN        S  \n",
       "1        1      0          PC 17599  71.2833   C85        C  \n",
       "2        0      0  STON/O2. 3101282   7.9250   NaN        S  \n",
       "3        1      0            113803  53.1000  C123        S  \n",
       "4        0      0            373450   8.0500   NaN        S  \n",
       "..     ...    ...               ...      ...   ...      ...  \n",
       "886      0      0            211536  13.0000   NaN        S  \n",
       "887      0      0            112053  30.0000   B42        S  \n",
       "888      1      2        W./C. 6607  23.4500   NaN        S  \n",
       "889      0      0            111369  30.0000  C148        C  \n",
       "890      0      0            370376   7.7500   NaN        Q  \n",
       "\n",
       "[891 rows x 12 columns]"
      ]
     },
     "execution_count": 18,
     "metadata": {},
     "output_type": "execute_result"
    }
   ],
   "source": [
    "#импортируем нужные модули и считываем исходный датафрейм\n",
    "import numpy as np\n",
    "import pandas as pd\n",
    "import matplotlib.pyplot as plt\n",
    "\n",
    "df_init = pd.read_csv(\"titanic.csv\")\n",
    "df_init"
   ]
  },
  {
   "cell_type": "code",
   "execution_count": 19,
   "id": "adbb046e",
   "metadata": {},
   "outputs": [
    {
     "name": "stdout",
     "output_type": "stream",
     "text": [
      "Датафрейм имеет 12 столбцов и 891 строку\n",
      "\n",
      "Датафрейм занимает 85664 байт после прочтения\n",
      "\n",
      "Столбцы имеют следующие типы данных\n",
      "int64      5\n",
      "float64    2\n",
      "object     5\n",
      "dtype: int64\n"
     ]
    }
   ],
   "source": [
    "#выводим статистику по структуре данных\n",
    "df = df_init.copy()\n",
    "print(f\"Датафрейм имеет {len(df.columns)} столбцов и {len(df)} строку\")\n",
    "print()\n",
    "bsize = df.memory_usage(index=True).sum()\n",
    "print(f\"Датафрейм занимает {bsize} байт после прочтения\")\n",
    "print()\n",
    "print(f\"Столбцы имеют следующие типы данных\")\n",
    "print( df.dtypes.groupby(df.dtypes).count() )"
   ]
  },
  {
   "cell_type": "code",
   "execution_count": 32,
   "id": "da7c8e89",
   "metadata": {},
   "outputs": [
    {
     "data": {
      "text/html": [
       "<div>\n",
       "<style scoped>\n",
       "    .dataframe tbody tr th:only-of-type {\n",
       "        vertical-align: middle;\n",
       "    }\n",
       "\n",
       "    .dataframe tbody tr th {\n",
       "        vertical-align: top;\n",
       "    }\n",
       "\n",
       "    .dataframe thead th {\n",
       "        text-align: right;\n",
       "    }\n",
       "</style>\n",
       "<table border=\"1\" class=\"dataframe\">\n",
       "  <thead>\n",
       "    <tr style=\"text-align: right;\">\n",
       "      <th></th>\n",
       "      <th>passengerid</th>\n",
       "      <th>survived</th>\n",
       "      <th>pclass</th>\n",
       "      <th>name_passenger</th>\n",
       "      <th>gender_passenger</th>\n",
       "      <th>age</th>\n",
       "      <th>sibsp</th>\n",
       "      <th>parch</th>\n",
       "      <th>ticket</th>\n",
       "      <th>fare</th>\n",
       "      <th>cabin</th>\n",
       "      <th>embarked</th>\n",
       "    </tr>\n",
       "  </thead>\n",
       "  <tbody>\n",
       "    <tr>\n",
       "      <th>0</th>\n",
       "      <td>1</td>\n",
       "      <td>0</td>\n",
       "      <td>3</td>\n",
       "      <td>Braund, Mr. Owen Harris</td>\n",
       "      <td>male</td>\n",
       "      <td>22.000000</td>\n",
       "      <td>1</td>\n",
       "      <td>0</td>\n",
       "      <td>A/5 21171</td>\n",
       "      <td>7.2500</td>\n",
       "      <td>unknown</td>\n",
       "      <td>S</td>\n",
       "    </tr>\n",
       "    <tr>\n",
       "      <th>1</th>\n",
       "      <td>2</td>\n",
       "      <td>1</td>\n",
       "      <td>1</td>\n",
       "      <td>Cumings, Mrs. John Bradley (Florence Briggs Th...</td>\n",
       "      <td>female</td>\n",
       "      <td>38.000000</td>\n",
       "      <td>1</td>\n",
       "      <td>0</td>\n",
       "      <td>PC 17599</td>\n",
       "      <td>71.2833</td>\n",
       "      <td>C85</td>\n",
       "      <td>C</td>\n",
       "    </tr>\n",
       "    <tr>\n",
       "      <th>2</th>\n",
       "      <td>3</td>\n",
       "      <td>1</td>\n",
       "      <td>3</td>\n",
       "      <td>Heikkinen, Miss. Laina</td>\n",
       "      <td>female</td>\n",
       "      <td>26.000000</td>\n",
       "      <td>0</td>\n",
       "      <td>0</td>\n",
       "      <td>STON/O2. 3101282</td>\n",
       "      <td>7.9250</td>\n",
       "      <td>unknown</td>\n",
       "      <td>S</td>\n",
       "    </tr>\n",
       "    <tr>\n",
       "      <th>3</th>\n",
       "      <td>4</td>\n",
       "      <td>1</td>\n",
       "      <td>1</td>\n",
       "      <td>Futrelle, Mrs. Jacques Heath (Lily May Peel)</td>\n",
       "      <td>female</td>\n",
       "      <td>35.000000</td>\n",
       "      <td>1</td>\n",
       "      <td>0</td>\n",
       "      <td>113803</td>\n",
       "      <td>53.1000</td>\n",
       "      <td>C123</td>\n",
       "      <td>S</td>\n",
       "    </tr>\n",
       "    <tr>\n",
       "      <th>4</th>\n",
       "      <td>5</td>\n",
       "      <td>0</td>\n",
       "      <td>3</td>\n",
       "      <td>Allen, Mr. William Henry</td>\n",
       "      <td>male</td>\n",
       "      <td>35.000000</td>\n",
       "      <td>0</td>\n",
       "      <td>0</td>\n",
       "      <td>373450</td>\n",
       "      <td>8.0500</td>\n",
       "      <td>unknown</td>\n",
       "      <td>S</td>\n",
       "    </tr>\n",
       "    <tr>\n",
       "      <th>...</th>\n",
       "      <td>...</td>\n",
       "      <td>...</td>\n",
       "      <td>...</td>\n",
       "      <td>...</td>\n",
       "      <td>...</td>\n",
       "      <td>...</td>\n",
       "      <td>...</td>\n",
       "      <td>...</td>\n",
       "      <td>...</td>\n",
       "      <td>...</td>\n",
       "      <td>...</td>\n",
       "      <td>...</td>\n",
       "    </tr>\n",
       "    <tr>\n",
       "      <th>886</th>\n",
       "      <td>887</td>\n",
       "      <td>0</td>\n",
       "      <td>2</td>\n",
       "      <td>Montvila, Rev. Juozas</td>\n",
       "      <td>male</td>\n",
       "      <td>27.000000</td>\n",
       "      <td>0</td>\n",
       "      <td>0</td>\n",
       "      <td>211536</td>\n",
       "      <td>13.0000</td>\n",
       "      <td>unknown</td>\n",
       "      <td>S</td>\n",
       "    </tr>\n",
       "    <tr>\n",
       "      <th>887</th>\n",
       "      <td>888</td>\n",
       "      <td>1</td>\n",
       "      <td>1</td>\n",
       "      <td>Graham, Miss. Margaret Edith</td>\n",
       "      <td>female</td>\n",
       "      <td>19.000000</td>\n",
       "      <td>0</td>\n",
       "      <td>0</td>\n",
       "      <td>112053</td>\n",
       "      <td>30.0000</td>\n",
       "      <td>B42</td>\n",
       "      <td>S</td>\n",
       "    </tr>\n",
       "    <tr>\n",
       "      <th>888</th>\n",
       "      <td>889</td>\n",
       "      <td>0</td>\n",
       "      <td>3</td>\n",
       "      <td>Johnston, Miss. Catherine Helen \"Carrie\"</td>\n",
       "      <td>female</td>\n",
       "      <td>29.699118</td>\n",
       "      <td>1</td>\n",
       "      <td>2</td>\n",
       "      <td>W./C. 6607</td>\n",
       "      <td>23.4500</td>\n",
       "      <td>unknown</td>\n",
       "      <td>S</td>\n",
       "    </tr>\n",
       "    <tr>\n",
       "      <th>889</th>\n",
       "      <td>890</td>\n",
       "      <td>1</td>\n",
       "      <td>1</td>\n",
       "      <td>Behr, Mr. Karl Howell</td>\n",
       "      <td>male</td>\n",
       "      <td>26.000000</td>\n",
       "      <td>0</td>\n",
       "      <td>0</td>\n",
       "      <td>111369</td>\n",
       "      <td>30.0000</td>\n",
       "      <td>C148</td>\n",
       "      <td>C</td>\n",
       "    </tr>\n",
       "    <tr>\n",
       "      <th>890</th>\n",
       "      <td>891</td>\n",
       "      <td>0</td>\n",
       "      <td>3</td>\n",
       "      <td>Dooley, Mr. Patrick</td>\n",
       "      <td>male</td>\n",
       "      <td>32.000000</td>\n",
       "      <td>0</td>\n",
       "      <td>0</td>\n",
       "      <td>370376</td>\n",
       "      <td>7.7500</td>\n",
       "      <td>unknown</td>\n",
       "      <td>Q</td>\n",
       "    </tr>\n",
       "  </tbody>\n",
       "</table>\n",
       "<p>891 rows × 12 columns</p>\n",
       "</div>"
      ],
      "text/plain": [
       "     passengerid  survived  pclass  \\\n",
       "0              1         0       3   \n",
       "1              2         1       1   \n",
       "2              3         1       3   \n",
       "3              4         1       1   \n",
       "4              5         0       3   \n",
       "..           ...       ...     ...   \n",
       "886          887         0       2   \n",
       "887          888         1       1   \n",
       "888          889         0       3   \n",
       "889          890         1       1   \n",
       "890          891         0       3   \n",
       "\n",
       "                                        name_passenger gender_passenger  \\\n",
       "0                              Braund, Mr. Owen Harris             male   \n",
       "1    Cumings, Mrs. John Bradley (Florence Briggs Th...           female   \n",
       "2                               Heikkinen, Miss. Laina           female   \n",
       "3         Futrelle, Mrs. Jacques Heath (Lily May Peel)           female   \n",
       "4                             Allen, Mr. William Henry             male   \n",
       "..                                                 ...              ...   \n",
       "886                              Montvila, Rev. Juozas             male   \n",
       "887                       Graham, Miss. Margaret Edith           female   \n",
       "888           Johnston, Miss. Catherine Helen \"Carrie\"           female   \n",
       "889                              Behr, Mr. Karl Howell             male   \n",
       "890                                Dooley, Mr. Patrick             male   \n",
       "\n",
       "           age  sibsp  parch            ticket     fare    cabin embarked  \n",
       "0    22.000000      1      0         A/5 21171   7.2500  unknown        S  \n",
       "1    38.000000      1      0          PC 17599  71.2833      C85        C  \n",
       "2    26.000000      0      0  STON/O2. 3101282   7.9250  unknown        S  \n",
       "3    35.000000      1      0            113803  53.1000     C123        S  \n",
       "4    35.000000      0      0            373450   8.0500  unknown        S  \n",
       "..         ...    ...    ...               ...      ...      ...      ...  \n",
       "886  27.000000      0      0            211536  13.0000  unknown        S  \n",
       "887  19.000000      0      0            112053  30.0000      B42        S  \n",
       "888  29.699118      1      2        W./C. 6607  23.4500  unknown        S  \n",
       "889  26.000000      0      0            111369  30.0000     C148        C  \n",
       "890  32.000000      0      0            370376   7.7500  unknown        Q  \n",
       "\n",
       "[891 rows x 12 columns]"
      ]
     },
     "execution_count": 32,
     "metadata": {},
     "output_type": "execute_result"
    }
   ],
   "source": [
    "#cформируем кортеж из названий столбцов в нужном формате\n",
    "df.columns = [ str(s).replace(\" \", \"_\").lower() for s in df.columns ]\n",
    "df"
   ]
  },
  {
   "cell_type": "code",
   "execution_count": 21,
   "id": "153571c3",
   "metadata": {},
   "outputs": [
    {
     "name": "stdout",
     "output_type": "stream",
     "text": [
      "passengerid           0\n",
      "survived              0\n",
      "pclass                0\n",
      "name_passenger        0\n",
      "gender_passenger      0\n",
      "age                 177\n",
      "sibsp                 0\n",
      "parch                 0\n",
      "ticket                0\n",
      "fare                  0\n",
      "cabin               687\n",
      "embarked              2\n",
      "dtype: int64\n"
     ]
    }
   ],
   "source": [
    "# определяем количество пустых ячеек в каждом столбце\n",
    "print(df.isna().sum())\n",
    "\n",
    "# заполняем пустые ячейки средними значениями по столбцу\n",
    "df = df.fillna(df.mean())\n",
    "most_common_embarked= df['embarked'].mode()[0]\n",
    "most_common_embarked= df['embarked'].fillna(most_common_embarked,inplace=True)\n",
    "df['cabin'].fillna('unknown',inplace=True)\n",
    "\n",
    "\n"
   ]
  },
  {
   "cell_type": "code",
   "execution_count": 22,
   "id": "a8f777ce",
   "metadata": {},
   "outputs": [
    {
     "name": "stdout",
     "output_type": "stream",
     "text": [
      "\n",
      "passengerid         0\n",
      "survived            0\n",
      "pclass              0\n",
      "name_passenger      0\n",
      "gender_passenger    0\n",
      "age                 0\n",
      "sibsp               0\n",
      "parch               0\n",
      "ticket              0\n",
      "fare                0\n",
      "cabin               0\n",
      "embarked            0\n",
      "dtype: int64\n"
     ]
    }
   ],
   "source": [
    "\n",
    "# проверяем, что все ячейки заполнены\n",
    "print()\n",
    "print(df.isna().sum())"
   ]
  },
  {
   "cell_type": "code",
   "execution_count": 23,
   "id": "750ac17c",
   "metadata": {
    "scrolled": false
   },
   "outputs": [
    {
     "name": "stdout",
     "output_type": "stream",
     "text": [
      "Для разбиения на типы переменных приведем статистику по количеству уникальных значений\n",
      "passengerid         891\n",
      "survived              2\n",
      "pclass                3\n",
      "name_passenger      891\n",
      "gender_passenger      2\n",
      "age                  89\n",
      "sibsp                 7\n",
      "parch                 7\n",
      "ticket              681\n",
      "fare                248\n",
      "cabin               148\n",
      "embarked              3\n",
      "dtype: int64\n",
      "\n",
      "passengerid           int64\n",
      "survived              int64\n",
      "pclass                int64\n",
      "name_passenger       object\n",
      "gender_passenger     object\n",
      "age                 float64\n",
      "sibsp                 int64\n",
      "parch                 int64\n",
      "ticket               object\n",
      "fare                float64\n",
      "cabin                object\n",
      "embarked             object\n",
      "dtype: object\n",
      "Показатели по категориальным признакам\n",
      "                       survived pclass gender_passenger sibsp parch embarked\n",
      "Количество уникальных         2      3                2     7     7        3\n",
      "Мода                          0      3             male     0     0        S\n",
      "Количество пропущенных        0      0                0     0     0        0\n",
      "\n",
      "Показатели по интервальным признакам\n",
      "          passengerid   age   fare\n",
      "Медиана         446.0  29.7   14.5\n",
      "Среднее         446.0  29.7   32.2\n",
      "Максимум        891.0  80.0  512.3\n",
      "Минимум           1.0   0.4    0.0\n"
     ]
    }
   ],
   "source": [
    "print(\"Для разбиения на типы переменных приведем статистику по количеству уникальных значений\")\n",
    "print(df.nunique ())\n",
    "print()\n",
    "N_category = 20 #выбрали по выведенной таблице границу категориальных признаков\n",
    "\n",
    "cat_list = []\n",
    "interv_list = []\n",
    "cat_df_res = pd.DataFrame()\n",
    "interv_df_res = pd.DataFrame()\n",
    "print(df.dtypes)\n",
    "for c in df.columns:\n",
    "    if df[c].nunique ()<N_category: \n",
    "        cat_list.append(c)\n",
    "        cat_df_res.loc[c, [\"Количество уникальных\", \"Мода\", \"Количество пропущенных\"]] = [df[c].nunique(), \n",
    "                                                               list(df[c].mode ())[0], \n",
    "                                                               df[c].isnull().sum ()]\n",
    "    elif (df[c].dtypes!=object)  & ( float( df[c].nunique () )>N_category ): \n",
    "        interv_list.append(c)\n",
    "        interv_df_res.loc[c, [\"Медиана\", \"Среднее\", \"Максимум\", \"Минимум\"]] = [df[c].median(),\n",
    "                                                                                df[c].mean(),\n",
    "                                                                                df[c].max(),\n",
    "                                                                                df[c].min()]\n",
    "print(\"Показатели по категориальным признакам\")\n",
    "print(cat_df_res.T)\n",
    "print()\n",
    "print(\"Показатели по интервальным признакам\")\n",
    "print(interv_df_res.T.round(1))"
   ]
  },
  {
   "cell_type": "code",
   "execution_count": 24,
   "id": "8ed96201",
   "metadata": {},
   "outputs": [
    {
     "name": "stdout",
     "output_type": "stream",
     "text": [
      "Доля выживших пассажиров 0.384\n"
     ]
    }
   ],
   "source": [
    "print(f\"Доля выживших пассажиров {round(df.loc[(df.survived==1)|(df.survived==0),'survived'].astype(int).mean(),3)}\")"
   ]
  },
  {
   "cell_type": "code",
   "execution_count": 25,
   "id": "4b904d90",
   "metadata": {},
   "outputs": [
    {
     "name": "stdout",
     "output_type": "stream",
     "text": [
      "Доля выживших пассажиров в зависимости от переменной 'Класс каюты''\n",
      "pclass\n",
      "1    0.630\n",
      "2    0.473\n",
      "3    0.242\n",
      "Name: survived, dtype: float64\n",
      "\n",
      "Доля выживших пассажиров в зависимости от переменной 'Пол пассажира''\n",
      "gender_passenger\n",
      "female    0.742\n",
      "male      0.189\n",
      "Name: survived, dtype: float64\n",
      "\n",
      "Доля выживших пассажиров в зависимости от переменной 'Порт посадки''\n",
      "embarked\n",
      "C    0.554\n",
      "Q    0.390\n",
      "S    0.339\n",
      "Name: survived, dtype: float64\n",
      "\n",
      "Доля выживших пассажиров в зависимости от переменной 'Пол пассажира и класс каюты''\n",
      "gender_passenger  pclass\n",
      "female            1         0.968\n",
      "                  2         0.921\n",
      "                  3         0.500\n",
      "male              1         0.369\n",
      "                  2         0.157\n",
      "                  3         0.135\n",
      "Name: survived, dtype: float64\n",
      "\n"
     ]
    }
   ],
   "source": [
    "group_ind_dict = {\"Класс каюты\":'pclass',\"Пол пассажира\":'gender_passenger',\"Порт посадки\":'embarked',\"Пол пассажира и класс каюты\":['gender_passenger','pclass']}\n",
    "for gid in group_ind_dict.keys():\n",
    "    print(f\"Доля выживших пассажиров в зависимости от переменной '{gid}''\")\n",
    "    gi = group_ind_dict[gid]\n",
    "    df1 = df.astype({'survived':int}).groupby(gi)['survived'].mean()\n",
    "    print(df1.round(3))\n",
    "    print()"
   ]
  },
  {
   "cell_type": "code",
   "execution_count": 26,
   "id": "26f87db9",
   "metadata": {},
   "outputs": [
    {
     "name": "stdout",
     "output_type": "stream",
     "text": [
      "embarked                 C         Q         S\n",
      "gender_passenger                              \n",
      "female            0.876712  0.750000  0.692683\n",
      "male              0.305263  0.073171  0.174603\n",
      "embarked                 C    Q        S\n",
      "gender_passenger                        \n",
      "female            0.976744  1.0  0.96000\n",
      "male              0.404762  0.0  0.35443\n",
      "embarked            C    Q         S\n",
      "gender_passenger                    \n",
      "female            1.0  1.0  0.910448\n",
      "male              0.2  0.0  0.154639\n",
      "embarked                 C         Q         S\n",
      "gender_passenger                              \n",
      "female            0.652174  0.727273  0.375000\n",
      "male              0.232558  0.076923  0.128302\n"
     ]
    },
    {
     "data": {
      "image/png": "[encoded data removed]",
      "text/plain": [
       "<Figure size 864x576 with 8 Axes>"
      ]
     },
     "metadata": {
      "needs_background": "light"
     },
     "output_type": "display_data"
    }
   ],
   "source": [
    "fig, axes = plt.subplots(figsize=(12,8),nrows=2, ncols=2)\n",
    "plt.subplots_adjust(wspace=0.3)\n",
    "plt.subplots_adjust(hspace=0.3)\n",
    "\n",
    "def group_port_e(port):\n",
    "    df_m = df[df.pclass.isin(port)].astype({'survived':int}).groupby(['gender_passenger','embarked'])['survived'].mean()\n",
    "    df_c = df[df.pclass.isin(port)].astype({'survived':int}).groupby(['gender_passenger','embarked'])['survived'].count()\n",
    "    df3 = df_m.unstack()\n",
    "    df4 = df_c.unstack()\n",
    "    return df3, df4\n",
    "\n",
    "si = 1\n",
    "ports = [[1,2,3], [1], [2], [3]]\n",
    "ports_label = [\"Среди всех пассажиров\", \"Среди пассажиров 1 класса\", \"Среди пассажиров 2 класса\", \"Среди пассажиров 3 класса\"]\n",
    "for p in ports:\n",
    "    df3 = group_port_e(p)[0]\n",
    "    df4 = group_port_e(p)[1]\n",
    "    ax1=plt.subplot(2,2,si)\n",
    "    df3.T.plot(ax=ax1, kind='bar') #,stacked=True\n",
    "    print(df3)\n",
    "    ax2 = ax1.twinx()\n",
    "    df4.T.plot(ax=ax2, kind='line')\n",
    "    ax1.set_ylim(0, 1)\n",
    "    ax1.get_legend().remove()\n",
    "    ax1.set_ylabel(\"Доля выживших\")\n",
    "    ax2.set_ylabel(\"Общее число пассажиров\")\n",
    "    ax1.set_xlabel(\"Класс каюты\")\n",
    "    plt.title(ports_label[si-1])\n",
    "    si+=1"
   ]
  },
  {
   "cell_type": "code",
   "execution_count": 27,
   "id": "4476c2da",
   "metadata": {},
   "outputs": [
    {
     "name": "stdout",
     "output_type": "stream",
     "text": [
      "survived       1.000000\n",
      "fare           0.257307\n",
      "parch          0.081629\n",
      "passengerid   -0.005007\n",
      "sibsp         -0.035322\n",
      "age           -0.069809\n",
      "pclass        -0.338481\n",
      "Name: survived, dtype: float64\n"
     ]
    }
   ],
   "source": [
    "#Для определения влияния каждого признака на выживание \n",
    "corr_matrix=df.corr()\n",
    "print (corr_matrix['survived'].sort_values(ascending=False))\n"
   ]
  },
  {
   "cell_type": "code",
   "execution_count": 28,
   "id": "d211bbe9",
   "metadata": {
    "scrolled": false
   },
   "outputs": [
    {
     "name": "stdout",
     "output_type": "stream",
     "text": [
      "Для разбиения на типы переменных приведем статистику по количеству уникальных значений\n",
      "passengerid         891\n",
      "survived              2\n",
      "pclass                3\n",
      "name_passenger      891\n",
      "gender_passenger      2\n",
      "age                  89\n",
      "sibsp                 7\n",
      "parch                 7\n",
      "ticket              681\n",
      "fare                248\n",
      "cabin               148\n",
      "embarked              3\n",
      "dtype: int64\n"
     ]
    },
    {
     "data": {
      "image/png": "[encoded data removed]",
      "text/plain": [
       "<Figure size 432x288 with 1 Axes>"
      ]
     },
     "metadata": {
      "needs_background": "light"
     },
     "output_type": "display_data"
    },
    {
     "data": {
      "image/png": "[encoded data removed]",
      "text/plain": [
       "<Figure size 432x288 with 1 Axes>"
      ]
     },
     "metadata": {
      "needs_background": "light"
     },
     "output_type": "display_data"
    },
    {
     "data": {
      "image/png": "[encoded data removed]",
      "text/plain": [
       "<Figure size 432x288 with 1 Axes>"
      ]
     },
     "metadata": {
      "needs_background": "light"
     },
     "output_type": "display_data"
    },
    {
     "data": {
      "image/png": "[encoded data removed]",
      "text/plain": [
       "<Figure size 432x288 with 1 Axes>"
      ]
     },
     "metadata": {
      "needs_background": "light"
     },
     "output_type": "display_data"
    },
    {
     "data": {
      "image/png": "[encoded data removed]",
      "text/plain": [
       "<Figure size 432x288 with 1 Axes>"
      ]
     },
     "metadata": {
      "needs_background": "light"
     },
     "output_type": "display_data"
    }
   ],
   "source": [
    "print(\"Для разбиения на типы переменных приведем статистику по количеству уникальных значений\")\n",
    "print(df.nunique ())\n",
    "N_category = 20 #выбрали по выведенной таблице границу категориальных признаков\n",
    "\n",
    "cat_list = []\n",
    "interv_list = []\n",
    "cat_df_res = pd.DataFrame()\n",
    "interv_df_res = pd.DataFrame()\n",
    "for c in df.columns:\n",
    "    if c=='survived': continue\n",
    "    if df[c].nunique ()<N_category: \n",
    "        df_c = df[[c, 'survived','name_passenger']].groupby([c, 'survived']).count().unstack()\n",
    "        df_c.plot(kind='bar') #,stacked=True\n",
    "\n"
   ]
  },
  {
   "cell_type": "code",
   "execution_count": 29,
   "id": "32636b64",
   "metadata": {},
   "outputs": [
    {
     "name": "stdout",
     "output_type": "stream",
     "text": [
      "Доля выживших пассажиров в зависимости от переменной 'Пол пассажира и класс каюты''\n",
      "pclass                1      2      3\n",
      "gender_passenger                     \n",
      "female            0.968  0.921  0.500\n",
      "male              0.369  0.157  0.135\n",
      "\n"
     ]
    },
    {
     "data": {
      "image/png": "[encoded data removed]",
      "text/plain": [
       "<Figure size 432x288 with 1 Axes>"
      ]
     },
     "metadata": {
      "needs_background": "light"
     },
     "output_type": "display_data"
    }
   ],
   "source": [
    "group_ind_dict = {\"Пол пассажира и класс каюты\":['gender_passenger','pclass']}\n",
    "for gid in group_ind_dict.keys():\n",
    "    print(f\"Доля выживших пассажиров в зависимости от переменной '{gid}''\")\n",
    "    gi = group_ind_dict[gid]\n",
    "    df1 = df.astype({'survived':int}).groupby(gi)['survived'].mean().unstack()\n",
    "    df1.plot(kind='bar') #,stacked=True\n",
    "    print(df1.round(3))\n",
    "    print()"
   ]
  },
  {
   "cell_type": "code",
   "execution_count": 14,
   "id": "e27812fe",
   "metadata": {},
   "outputs": [
    {
     "name": "stdout",
     "output_type": "stream",
     "text": [
      "Доля выживших пассажиров в зависимости от переменной 'Пол пассажира и класс каюты''\n",
      "parch      0      1      2      3    4      5    6\n",
      "sibsp                                             \n",
      "0      0.304  0.658  0.724  1.000  0.0  0.000  NaN\n",
      "1      0.520  0.596  0.632  0.333  0.0  0.333  0.0\n",
      "2      0.250  0.857  0.500  1.000  NaN    NaN  NaN\n",
      "3      1.000  0.000  0.286    NaN  NaN    NaN  NaN\n",
      "4        NaN  0.000  0.333    NaN  NaN    NaN  NaN\n",
      "5        NaN    NaN  0.000    NaN  NaN    NaN  NaN\n",
      "8        NaN    NaN  0.000    NaN  NaN    NaN  NaN\n",
      "\n"
     ]
    },
    {
     "data": {
      "image/png": "[encoded data removed]",
      "text/plain": [
       "<Figure size 432x288 with 1 Axes>"
      ]
     },
     "metadata": {
      "needs_background": "light"
     },
     "output_type": "display_data"
    }
   ],
   "source": [
    "group_ind_dict = {\"Пол пассажира и класс каюты\":['sibsp','parch']}\n",
    "for gid in group_ind_dict.keys():\n",
    "    print(f\"Доля выживших пассажиров в зависимости от переменной '{gid}''\")\n",
    "    gi = group_ind_dict[gid]\n",
    "    df1 = df.astype({'survived':int}).groupby(gi)['survived'].mean().unstack()\n",
    "    df1.plot(kind='bar') #,stacked=True\n",
    "    print(df1.round(3))\n",
    "    print()"
   ]
  },
  {
   "cell_type": "code",
   "execution_count": 57,
   "id": "d6288714",
   "metadata": {
    "scrolled": false
   },
   "outputs": [
    {
     "name": "stdout",
     "output_type": "stream",
     "text": [
      "survived      0    1\n",
      "age_groups          \n",
      "(0, 10]      26   38\n",
      "(10, 20]     71   44\n",
      "(20, 30]    271  136\n",
      "(30, 40]     86   69\n",
      "(40, 50]     53   33\n",
      "(50, 60]     25   17\n",
      "(60, 70]     13    4\n",
      "(70, 80]      4    1\n"
     ]
    },
    {
     "data": {
      "image/png": "[encoded data removed]",
      "text/plain": [
       "<Figure size 432x288 with 1 Axes>"
      ]
     },
     "metadata": {
      "needs_background": "light"
     },
     "output_type": "display_data"
    },
    {
     "name": "stdout",
     "output_type": "stream",
     "text": [
      "passengerid            int64\n",
      "survived               int64\n",
      "pclass                 int64\n",
      "name_passenger        object\n",
      "gender_passenger      object\n",
      "age                  float64\n",
      "sibsp                  int64\n",
      "parch                  int64\n",
      "ticket                object\n",
      "fare                 float64\n",
      "cabin                 object\n",
      "embarked              object\n",
      "age_groups          category\n",
      "dtype: object\n",
      "gender_passenger    female      male\n",
      "age_groups                          \n",
      "(0, 10]           0.612903  0.575758\n",
      "(10, 20]          0.739130  0.144928\n",
      "(20, 30]          0.723881  0.142857\n",
      "(30, 40]          0.836364  0.230000\n",
      "(40, 50]          0.677419  0.218182\n",
      "(50, 60]          0.928571  0.142857\n",
      "(60, 70]          1.000000  0.071429\n",
      "(70, 80]               NaN  0.200000\n"
     ]
    },
    {
     "data": {
      "image/png": "[encoded data removed]",
      "text/plain": [
       "<Figure size 432x288 with 1 Axes>"
      ]
     },
     "metadata": {
      "needs_background": "light"
     },
     "output_type": "display_data"
    }
   ],
   "source": [
    "df['age_groups'] = pd.cut(df['age'], bins=[0, 10, 20, 30, 40, 50, 60, 70, 80])\n",
    "age_survival = df.groupby(['age_groups', 'survived'])['survived'].count().unstack()\n",
    "print(age_survival)\n",
    "age_survival.plot(kind='bar', stacked=False)\n",
    "plt.title('Survival by Age')\n",
    "plt.xlabel('Age')\n",
    "plt.ylabel('Count')\n",
    "plt.show()\n",
    "\n",
    "df['age_groups'] = pd.cut(df['age'], bins=[0, 10, 20, 30, 40, 50, 60, 70, 80])\n",
    "print(df.dtypes)\n",
    "age_survival = df.groupby(['age_groups','gender_passenger'])['survived'].mean().unstack()\n",
    "print(age_survival)\n",
    "age_survival.plot(kind='bar', stacked=False)\n",
    "plt.title('Survival by Age')\n",
    "plt.xlabel('Age')\n",
    "plt.ylabel('Count')\n",
    "plt.show()\n"
   ]
  },
  {
   "cell_type": "code",
   "execution_count": null,
   "id": "1d24c573",
   "metadata": {},
   "outputs": [],
   "source": []
  }
 ],
 "metadata": {
  "kernelspec": {
   "display_name": "Python 3",
   "language": "python",
   "name": "python3"
  },
  "language_info": {
   "codemirror_mode": {
    "name": "ipython",
    "version": 3
   },
   "file_extension": ".py",
   "mimetype": "text/x-python",
   "name": "python",
   "nbconvert_exporter": "python",
   "pygments_lexer": "ipython3",
   "version": "3.6.4"
  }
 },
 "nbformat": 4,
 "nbformat_minor": 5
}
