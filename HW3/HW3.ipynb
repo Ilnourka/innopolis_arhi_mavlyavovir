{
  "nbformat": 4,
  "nbformat_minor": 0,
  "metadata": {
    "colab": {
      "provenance": []
    },
    "kernelspec": {
      "name": "python3",
      "display_name": "Python 3"
    },
    "language_info": {
      "name": "python"
    }
  },
  "cells": [
    {
      "cell_type": "code",
      "execution_count": 1,
      "metadata": {
        "colab": {
          "base_uri": "https://localhost:8080/"
        },
        "id": "BLK9Il5XyuE7",
        "outputId": "a6b2964a-9439-45cf-ba4d-cf0b9c4afb66"
      },
      "outputs": [
        {
          "output_type": "stream",
          "name": "stdout",
          "text": [
            "Мавлявов Ильнур Рустамович\n"
          ]
        }
      ],
      "source": [
        "print('Мавлявов Ильнур Рустамович')"
      ]
    }
  ]
}