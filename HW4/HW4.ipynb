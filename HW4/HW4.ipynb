{
  "nbformat": 4,
  "nbformat_minor": 0,
  "metadata": {
    "colab": {
      "provenance": []
    },
    "kernelspec": {
      "name": "python3",
      "display_name": "Python 3"
    },
    "language_info": {
      "name": "python"
    }
  },
  "cells": [
    {
      "cell_type": "code",
      "execution_count": 1,
      "metadata": {
        "colab": {
          "base_uri": "https://localhost:8080/"
        },
        "id": "znEXRTsPy-1v",
        "outputId": "fc52bf15-e82e-41a7-8d39-09ccc26233ac"
      },
      "outputs": [
        {
          "output_type": "stream",
          "name": "stdout",
          "text": [
            "[[7 0]\n",
            " [0 1]\n",
            " [5 9]]\n",
            "[[-1  5]\n",
            " [ 1 -2]\n",
            " [ 4  8]]\n"
          ]
        }
      ],
      "source": [
        "#Домашнее задание №4\n",
        "#Задача 1\n",
        "import numpy as np\n",
        "A=np.array([[1, 2, 1],\n",
        "           [-2, 1, 1]])\n",
        "B=np.array([[3, 1],\n",
        "           [-1, 0],\n",
        "           [2, 4]])\n",
        "C=np.array([[-2, 2],\n",
        "           [1, -1],\n",
        "           [1, 2]])\n",
        "Sum_matrix = A.transpose() + 2*B\n",
        "Sum_matrix1 = B + 2*C\n",
        "print(Sum_matrix)\n",
        "print(Sum_matrix1)"
      ]
    },
    {
      "cell_type": "code",
      "source": [
        "#Задача 2\n",
        "import numpy as np\n",
        "matrix = np.zeros((8,8), dtype=int)\n",
        "matrix[::2, ::2] = 1\n",
        "matrix[1::2, 1::2] = 1\n",
        "# выводим результат\n",
        "print(matrix)"
      ],
      "metadata": {
        "colab": {
          "base_uri": "https://localhost:8080/"
        },
        "id": "c3gCMWDDzGMO",
        "outputId": "b5642633-3bb7-4281-a376-38d83e693cc5"
      },
      "execution_count": 2,
      "outputs": [
        {
          "output_type": "stream",
          "name": "stdout",
          "text": [
            "[[1 0 1 0 1 0 1 0]\n",
            " [0 1 0 1 0 1 0 1]\n",
            " [1 0 1 0 1 0 1 0]\n",
            " [0 1 0 1 0 1 0 1]\n",
            " [1 0 1 0 1 0 1 0]\n",
            " [0 1 0 1 0 1 0 1]\n",
            " [1 0 1 0 1 0 1 0]\n",
            " [0 1 0 1 0 1 0 1]]\n"
          ]
        }
      ]
    },
    {
      "cell_type": "code",
      "source": [
        "import numpy as np\n",
        "matrix = np.zeros((8,8), dtype=int)\n",
        "matrix[1::2,::2] = 1\n",
        "matrix[::2, 1::2] = 1\n",
        "print(matrix)"
      ],
      "metadata": {
        "colab": {
          "base_uri": "https://localhost:8080/"
        },
        "id": "wMCJx9KZzKIv",
        "outputId": "e6c999a9-87ad-4351-9178-c82332ea79b1"
      },
      "execution_count": 3,
      "outputs": [
        {
          "output_type": "stream",
          "name": "stdout",
          "text": [
            "[[0 1 0 1 0 1 0 1]\n",
            " [1 0 1 0 1 0 1 0]\n",
            " [0 1 0 1 0 1 0 1]\n",
            " [1 0 1 0 1 0 1 0]\n",
            " [0 1 0 1 0 1 0 1]\n",
            " [1 0 1 0 1 0 1 0]\n",
            " [0 1 0 1 0 1 0 1]\n",
            " [1 0 1 0 1 0 1 0]]\n"
          ]
        }
      ]
    },
    {
      "cell_type": "code",
      "source": [
        "#Задача 3\n",
        "import numpy as np\n",
        "\n",
        "# создаем первый вектор\n",
        "vec1 = np.arange(0, 1.5, 0.1)\n",
        "\n",
        "# создаем второй вектор\n",
        "vec2 = np.arange(1, 7)\n",
        "\n",
        "# преобразуем первый вектор в матрицу 5x3\n",
        "matr1 = vec1.reshape((5, 3))\n",
        "\n",
        "# преобразуем второй вектор в матрицу 3x2\n",
        "matr2 = vec2.reshape((3, 2))\n",
        "\n",
        "# перемножаем матрицы\n",
        "result = np.dot(matr1, matr2)\n",
        "\n",
        "# выводим матрицы и результат перемножения на экран\n",
        "print(\"Матрица 1:\\n\", matr1)\n",
        "print(\"Матрица 2:\\n\", matr2)\n",
        "print(\"Результат перемножения:\\n\", result)"
      ],
      "metadata": {
        "colab": {
          "base_uri": "https://localhost:8080/"
        },
        "id": "c03ZxMNKzNmm",
        "outputId": "eac1c6b2-038d-4bf5-f3c2-dd3c992f0aaa"
      },
      "execution_count": 4,
      "outputs": [
        {
          "output_type": "stream",
          "name": "stdout",
          "text": [
            "Матрица 1:\n",
            " [[0.  0.1 0.2]\n",
            " [0.3 0.4 0.5]\n",
            " [0.6 0.7 0.8]\n",
            " [0.9 1.  1.1]\n",
            " [1.2 1.3 1.4]]\n",
            "Матрица 2:\n",
            " [[1 2]\n",
            " [3 4]\n",
            " [5 6]]\n",
            "Результат перемножения:\n",
            " [[ 1.3  1.6]\n",
            " [ 4.   5.2]\n",
            " [ 6.7  8.8]\n",
            " [ 9.4 12.4]\n",
            " [12.1 16. ]]\n"
          ]
        }
      ]
    },
    {
      "cell_type": "code",
      "source": [
        "#Задача 4\n",
        "import numpy as np\n",
        "\n",
        "# создаем вектор\n",
        "vec = np.arange(1, 72, 2, dtype=np.int32)\n",
        "\n",
        "# выводим исходный вектор на экран\n",
        "print(\"Исходный вектор:\\n\", vec)\n",
        "\n",
        "# выделяем элементы, кратные 3\n",
        "vec_3 = vec[vec % 3 == 0]\n",
        "\n",
        "# выводим вектор с кратными числами на экран\n",
        "print(\"Вектор с кратными числами:\\n\", vec_3)"
      ],
      "metadata": {
        "id": "mb48BaINzSVd",
        "outputId": "a7c926a5-78f4-4bed-9ee6-b538174344e5",
        "colab": {
          "base_uri": "https://localhost:8080/"
        }
      },
      "execution_count": 5,
      "outputs": [
        {
          "output_type": "stream",
          "name": "stdout",
          "text": [
            "Исходный вектор:\n",
            " [ 1  3  5  7  9 11 13 15 17 19 21 23 25 27 29 31 33 35 37 39 41 43 45 47\n",
            " 49 51 53 55 57 59 61 63 65 67 69 71]\n",
            "Вектор с кратными числами:\n",
            " [ 3  9 15 21 27 33 39 45 51 57 63 69]\n"
          ]
        }
      ]
    }
  ]
}